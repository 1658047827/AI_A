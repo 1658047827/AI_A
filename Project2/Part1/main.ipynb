{
 "cells": [
  {
   "cell_type": "code",
   "execution_count": 1,
   "metadata": {},
   "outputs": [],
   "source": [
    "Language = \"English\"\n",
    "# Language = \"Chinese\"\n",
    "mode = \"train\"\n",
    "# mode = \"test\"\n",
    "param_file = f\"{Language}0\"\n",
    "\n",
    "# 如果要进行test，先把test.txt放到对应文件夹下，然后把mode改为\"test\"再运行"
   ]
  },
  {
   "cell_type": "code",
   "execution_count": 2,
   "metadata": {},
   "outputs": [
    {
     "name": "stdout",
     "output_type": "stream",
     "text": [
      "2023-11-25 20:12:17,788 P12032 INFO train dataset size: 14041\n",
      "2023-11-25 20:12:17,789 P12032 INFO valid dataset size: 3250\n"
     ]
    },
    {
     "name": "stderr",
     "output_type": "stream",
     "text": [
      "100%|██████████| 14041/14041 [00:00<00:00, 119866.53it/s]\n"
     ]
    }
   ],
   "source": [
    "from dataprocess import build_vocab, build_tag2idx, data_process, set_log, combine_data\n",
    "from HMM import HMM_model\n",
    "\n",
    "\n",
    "set_log(None)\n",
    "tag2idx = build_tag2idx(f\"../NER/{Language}/tag.txt\")\n",
    "train_data, valid_data, test_data = data_process(f\"../NER/{Language}\", mode=mode)\n",
    "\n",
    "train_path = f\"../NER/{Language}/train.txt\"\n",
    "valid_path = f\"../NER/{Language}/validation.txt\"\n",
    "test_path = f\"../NER/{Language}/test.txt\"\n",
    "if mode == \"train\":\n",
    "    vocab = build_vocab([train_path, valid_path])\n",
    "elif mode == \"test\":\n",
    "    vocab = build_vocab([train_path, valid_path, test_path])\n",
    "\n",
    "model = HMM_model(tag2idx, vocab)\n",
    "if mode == \"train\":\n",
    "    model.train(train_data)\n",
    "    model.save_param(param_file, format=\"npz\")\n",
    "elif mode == \"test\":\n",
    "    model.load_param(param_file, format=\"npz\")\n",
    "\n",
    "if mode == \"train\":\n",
    "    y_pred = model.valid(valid_data)\n",
    "    valid_sentences = [sentence for sentence, _ in valid_data]\n",
    "    combined_data = combine_data(valid_sentences, y_pred)\n",
    "elif mode == \"test\":\n",
    "    y_pred = model.valid(test_data)\n",
    "    test_sentences = [sentence for sentence, _ in test_data]\n",
    "    combined_data = combine_data(test_sentences, y_pred)\n",
    "\n",
    "output_file = f\"output_{Language}.txt\"\n",
    "with open(output_file, \"w\", encoding=\"utf-8\") as file:\n",
    "    file.write(combined_data)"
   ]
  },
  {
   "cell_type": "code",
   "execution_count": 3,
   "metadata": {},
   "outputs": [
    {
     "name": "stdout",
     "output_type": "stream",
     "text": [
      "              precision    recall  f1-score   support\n",
      "\n",
      "       B-PER     0.9651    0.6911    0.8054      1842\n",
      "       I-PER     0.9532    0.7628    0.8474      1307\n",
      "       B-ORG     0.8088    0.7442    0.7751      1341\n",
      "       I-ORG     0.8589    0.6405    0.7338       751\n",
      "       B-LOC     0.9126    0.8302    0.8694      1837\n",
      "       I-LOC     0.8682    0.7432    0.8008       257\n",
      "      B-MISC     0.9137    0.8037    0.8552       922\n",
      "      I-MISC     0.8488    0.6329    0.7252       346\n",
      "\n",
      "   micro avg     0.9025    0.7468    0.8173      8603\n",
      "   macro avg     0.8912    0.7311    0.8016      8603\n",
      "weighted avg     0.9054    0.7468    0.8165      8603\n",
      "\n"
     ]
    }
   ],
   "source": [
    "from pathlib import Path\n",
    "import sys\n",
    "\n",
    "sys.path.append(str(Path.cwd().parent))\n",
    "\n",
    "from NER.check import check\n",
    "\n",
    "if mode == \"train\":\n",
    "    check(\n",
    "        language=Language,\n",
    "        gold_path=f\"../NER/{Language}/validation.txt\",\n",
    "        my_path=output_file,\n",
    "    )\n",
    "elif mode == \"test\":\n",
    "    check(\n",
    "        language=Language,\n",
    "        gold_path=f\"../NER/{Language}/test.txt\",\n",
    "        my_path=output_file,\n",
    "    )"
   ]
  }
 ],
 "metadata": {
  "kernelspec": {
   "display_name": "Python 3",
   "language": "python",
   "name": "python3"
  },
  "language_info": {
   "codemirror_mode": {
    "name": "ipython",
    "version": 3
   },
   "file_extension": ".py",
   "mimetype": "text/x-python",
   "name": "python",
   "nbconvert_exporter": "python",
   "pygments_lexer": "ipython3",
   "version": "3.9.18"
  }
 },
 "nbformat": 4,
 "nbformat_minor": 2
}

{
 "cells": [
  {
   "cell_type": "code",
   "execution_count": null,
   "metadata": {},
   "outputs": [],
   "source": [
    "Language = \"English\"\n",
    "# Language = \"Chinese\"\n",
    "mode = \"test\"\n",
    "param_num = 0"
   ]
  },
  {
   "cell_type": "code",
   "execution_count": null,
   "metadata": {},
   "outputs": [],
   "source": [
    "from dataprocess import build_vocab, build_tag2idx, data_process, set_log, combine_data\n",
    "from HMM import HMM_model\n",
    "\n",
    "\n",
    "set_log(None)\n",
    "tag2idx = build_tag2idx(f\"../NER/{Language}/tag.txt\")\n",
    "train_data, valid_data, test_data = data_process(f\"../NER/{Language}\", mode=mode)\n",
    "\n",
    "train_path = f\"../NER/{Language}/train.txt\"\n",
    "vocab = build_vocab([train_path])\n",
    "\n",
    "model = HMM_model(tag2idx, vocab)\n",
    "model.load_param(f\"{Language}{param_num}\", format=\"npz\")\n",
    "\n",
    "y_pred = model.valid(test_data)\n",
    "combined_data = combine_data([sentence for sentence, _ in test_data], y_pred)\n",
    "\n",
    "output_file = f\"output_{Language}.txt\"\n",
    "with open(output_file, \"w\", encoding=\"utf-8\") as file:\n",
    "    file.write(combined_data)"
   ]
  },
  {
   "cell_type": "code",
   "execution_count": null,
   "metadata": {},
   "outputs": [],
   "source": [
    "from pathlib import Path\n",
    "import sys\n",
    "\n",
    "sys.path.append(str(Path.cwd().parent))\n",
    "\n",
    "from NER.check import check\n",
    "\n",
    "report = check(\n",
    "    language=Language,\n",
    "    gold_path=f\"../NER/{Language}/test.txt\",\n",
    "    my_path=output_file,\n",
    ")"
   ]
  }
 ],
 "metadata": {
  "interpreter": {
   "hash": "73f83993ecc2dce571ce89cddd8a44e114591bb14d9f1f8465ac4f80026585cd"
  },
  "kernelspec": {
   "display_name": "Python 3.9.18 ('AI_A')",
   "language": "python",
   "name": "python3"
  },
  "language_info": {
   "codemirror_mode": {
    "name": "ipython",
    "version": 3
   },
   "file_extension": ".py",
   "mimetype": "text/x-python",
   "name": "python",
   "nbconvert_exporter": "python",
   "pygments_lexer": "ipython3",
   "version": "3.9.18"
  }
 },
 "nbformat": 4,
 "nbformat_minor": 2
}

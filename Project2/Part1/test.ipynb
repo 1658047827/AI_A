{
 "cells": [
  {
   "cell_type": "code",
   "execution_count": 1,
   "metadata": {},
   "outputs": [],
   "source": [
    "Language = \"English\"\n",
    "# Language = \"Chinese\"\n",
    "mode = \"test\"\n",
    "param_num = 0"
   ]
  },
  {
   "cell_type": "code",
   "execution_count": 2,
   "metadata": {},
   "outputs": [
    {
     "name": "stdout",
     "output_type": "stream",
     "text": [
      "2023-11-28 15:47:05,981 P6860 INFO train dataset size: 14041\n",
      "2023-11-28 15:47:05,982 P6860 INFO valid dataset size: 3250\n",
      "2023-11-28 15:47:05,982 P6860 INFO test dataset size: 3453\n"
     ]
    }
   ],
   "source": [
    "from dataprocess import build_vocab, build_tag2idx, data_process, set_log, combine_data\n",
    "from HMM import HMM_model\n",
    "\n",
    "\n",
    "set_log(None)\n",
    "tag2idx = build_tag2idx(f\"../NER/{Language}/tag.txt\")\n",
    "train_data, valid_data, test_data = data_process(f\"../NER/{Language}\", mode=mode)\n",
    "\n",
    "train_path = f\"../NER/{Language}/train.txt\"\n",
    "vocab = build_vocab([train_path])\n",
    "\n",
    "model = HMM_model(tag2idx, vocab)\n",
    "model.load_param(f\"{Language}{param_num}\", format=\"npz\")\n",
    "\n",
    "y_pred = model.valid(test_data)\n",
    "combined_data = combine_data([sentence for sentence, _ in test_data], y_pred)\n",
    "\n",
    "output_file = f\"output_{Language}.txt\"\n",
    "with open(output_file, \"w\", encoding=\"utf-8\") as file:\n",
    "    file.write(combined_data)"
   ]
  },
  {
   "cell_type": "code",
   "execution_count": 3,
   "metadata": {},
   "outputs": [
    {
     "name": "stdout",
     "output_type": "stream",
     "text": [
      "              precision    recall  f1-score   support\n",
      "\n",
      "       B-PER     0.9263    0.4818    0.6338      1617\n",
      "       I-PER     0.9694    0.5753    0.7220      1156\n",
      "       B-ORG     0.8166    0.6087    0.6975      1661\n",
      "       I-ORG     0.8400    0.6036    0.7024       835\n",
      "       B-LOC     0.8464    0.8064    0.8259      1668\n",
      "       I-LOC     0.7834    0.6615    0.7173       257\n",
      "      B-MISC     0.8173    0.7265    0.7692       702\n",
      "      I-MISC     0.7062    0.6343    0.6683       216\n",
      "\n",
      "   micro avg     0.8551    0.6313    0.7263      8112\n",
      "   macro avg     0.8382    0.6372    0.7171      8112\n",
      "weighted avg     0.8649    0.6313    0.7213      8112\n",
      "\n"
     ]
    }
   ],
   "source": [
    "from pathlib import Path\n",
    "import sys\n",
    "\n",
    "sys.path.append(str(Path.cwd().parent))\n",
    "\n",
    "from NER.check import check\n",
    "\n",
    "report = check(\n",
    "    language=Language,\n",
    "    gold_path=f\"../NER/{Language}/test.txt\",\n",
    "    my_path=output_file,\n",
    ")"
   ]
  }
 ],
 "metadata": {
  "kernelspec": {
   "display_name": "Python 3",
   "language": "python",
   "name": "python3"
  },
  "language_info": {
   "codemirror_mode": {
    "name": "ipython",
    "version": 3
   },
   "file_extension": ".py",
   "mimetype": "text/x-python",
   "name": "python",
   "nbconvert_exporter": "python",
   "pygments_lexer": "ipython3",
   "version": "3.9.18"
  }
 },
 "nbformat": 4,
 "nbformat_minor": 2
}

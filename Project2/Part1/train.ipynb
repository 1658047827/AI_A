{
 "cells": [
  {
   "cell_type": "code",
   "execution_count": 1,
   "metadata": {},
   "outputs": [],
   "source": [
    "# Language = \"English\"\n",
    "Language = \"Chinese\"\n",
    "mode = \"train\"\n",
    "param_num = 0"
   ]
  },
  {
   "cell_type": "code",
   "execution_count": 2,
   "metadata": {},
   "outputs": [
    {
     "name": "stdout",
     "output_type": "stream",
     "text": [
      "2023-11-28 15:48:35,290 P23016 INFO train dataset size: 3820\n",
      "2023-11-28 15:48:35,290 P23016 INFO valid dataset size: 462\n"
     ]
    },
    {
     "name": "stderr",
     "output_type": "stream",
     "text": [
      "100%|██████████| 3820/3820 [00:00<00:00, 56283.76it/s]\n"
     ]
    }
   ],
   "source": [
    "from dataprocess import build_vocab, build_tag2idx, data_process, set_log, combine_data\n",
    "from HMM import HMM_model\n",
    "\n",
    "\n",
    "set_log(None)\n",
    "tag2idx = build_tag2idx(f\"../NER/{Language}/tag.txt\")\n",
    "train_data, valid_data, test_data = data_process(f\"../NER/{Language}\", mode=mode)\n",
    "\n",
    "train_path = f\"../NER/{Language}/train.txt\"\n",
    "vocab = build_vocab([train_path])\n",
    "\n",
    "model = HMM_model(tag2idx, vocab)\n",
    "model.train(train_data)\n",
    "model.save_param(f\"{Language}{param_num}\", format=\"npz\")\n",
    "\n",
    "y_pred = model.valid(valid_data)\n",
    "combined_data = combine_data([sentence for sentence, _ in valid_data], y_pred)\n",
    "\n",
    "output_file = f\"output_{Language}.txt\"\n",
    "with open(output_file, \"w\", encoding=\"utf-8\") as file:\n",
    "    file.write(combined_data)"
   ]
  },
  {
   "cell_type": "code",
   "execution_count": 3,
   "metadata": {},
   "outputs": [
    {
     "name": "stdout",
     "output_type": "stream",
     "text": [
      "              precision    recall  f1-score   support\n",
      "\n",
      "      B-NAME     0.8667    0.8922    0.8792       102\n",
      "      M-NAME     0.8676    0.7867    0.8252        75\n",
      "      E-NAME     0.7810    0.8039    0.7923       102\n",
      "      S-NAME     0.5455    0.7500    0.6316         8\n",
      "      B-CONT     0.9706    1.0000    0.9851        33\n",
      "      M-CONT     0.9846    1.0000    0.9922        64\n",
      "      E-CONT     0.9706    1.0000    0.9851        33\n",
      "      S-CONT     0.0000    0.0000    0.0000         0\n",
      "       B-EDU     0.9018    0.9528    0.9266       106\n",
      "       M-EDU     0.9247    0.9718    0.9477       177\n",
      "       E-EDU     0.9286    0.9811    0.9541       106\n",
      "       S-EDU     0.0000    0.0000    0.0000         0\n",
      "     B-TITLE     0.8213    0.8403    0.8307       689\n",
      "     M-TITLE     0.8459    0.8465    0.8462      1479\n",
      "     E-TITLE     0.9418    0.9637    0.9527       689\n",
      "     S-TITLE     0.0000    0.0000    0.0000         0\n",
      "       B-ORG     0.8443    0.8831    0.8633       522\n",
      "       M-ORG     0.8870    0.9056    0.8962      3622\n",
      "       E-ORG     0.7537    0.7854    0.7692       522\n",
      "       S-ORG     0.0000    0.0000    0.0000         0\n",
      "      B-RACE     1.0000    1.0000    1.0000        14\n",
      "      M-RACE     0.0000    0.0000    0.0000         0\n",
      "      E-RACE     1.0000    1.0000    1.0000        14\n",
      "      S-RACE     1.0000    1.0000    1.0000         1\n",
      "       B-PRO     0.3824    0.7222    0.5000        18\n",
      "       M-PRO     0.2982    0.5152    0.3778        33\n",
      "       E-PRO     0.5000    0.9444    0.6538        18\n",
      "       S-PRO     0.0000    0.0000    0.0000         0\n",
      "       B-LOC     0.3333    0.5000    0.4000         2\n",
      "       M-LOC     0.7500    0.5000    0.6000         6\n",
      "       E-LOC     0.3333    0.5000    0.4000         2\n",
      "       S-LOC     0.0000    0.0000    0.0000         0\n",
      "\n",
      "   micro avg     0.8614    0.8856    0.8734      8437\n",
      "   macro avg     0.6073    0.6577    0.6253      8437\n",
      "weighted avg     0.8647    0.8856    0.8746      8437\n",
      "\n"
     ]
    }
   ],
   "source": [
    "from pathlib import Path\n",
    "import sys\n",
    "\n",
    "sys.path.append(str(Path.cwd().parent))\n",
    "\n",
    "from NER.check import check\n",
    "\n",
    "\n",
    "report = check(\n",
    "    language=Language,\n",
    "    gold_path=f\"../NER/{Language}/validation.txt\",\n",
    "    my_path=output_file,\n",
    ")"
   ]
  }
 ],
 "metadata": {
  "kernelspec": {
   "display_name": "Python 3",
   "language": "python",
   "name": "python3"
  },
  "language_info": {
   "codemirror_mode": {
    "name": "ipython",
    "version": 3
   },
   "file_extension": ".py",
   "mimetype": "text/x-python",
   "name": "python",
   "nbconvert_exporter": "python",
   "pygments_lexer": "ipython3",
   "version": "3.9.18"
  }
 },
 "nbformat": 4,
 "nbformat_minor": 2
}

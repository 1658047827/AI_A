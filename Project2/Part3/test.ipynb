{
 "cells": [
  {
   "cell_type": "code",
   "execution_count": null,
   "metadata": {},
   "outputs": [],
   "source": [
    "import torch\n",
    "import torch.optim as optim\n",
    "from torch.utils.data import DataLoader\n",
    "from dataset import MyDataset\n",
    "from data_process import data_process, build_tag2id, build_word2id\n",
    "from model import BiLSTM_CRF\n",
    "from runner import Runner"
   ]
  },
  {
   "cell_type": "code",
   "execution_count": null,
   "metadata": {},
   "outputs": [],
   "source": [
    "# Language = \"English\"\n",
    "Language = \"Chinese\"\n",
    "param_num = 0\n",
    "model_param = {\"English0\": (300, 256), \"Chinese0\": (300, 512)}\n",
    "\n",
    "EPOCHS = 2\n",
    "EMBEDDING_DIM, HIDDEN_DIM = model_param[f\"{Language}{param_num}\"]\n",
    "BATCH_SIZE = 16\n",
    "# device = \"cuda\" if torch.cuda.is_available() else \"cpu\"\n",
    "device = \"cpu\"\n",
    "\n",
    "torch.manual_seed(3407)"
   ]
  },
  {
   "cell_type": "code",
   "execution_count": null,
   "metadata": {},
   "outputs": [],
   "source": [
    "data_process(f\"../NER/{Language}\", \"test\")\n",
    "\n",
    "word2id, id2word = build_word2id(f\"../NER/{Language}/train.txt\")\n",
    "tag2id, id2tag = build_tag2id(f\"../NER/{Language}/tag.txt\")\n",
    "\n",
    "test_dataset = MyDataset(f\"../NER/{Language}/test.npz\", word2id, tag2id)\n",
    "\n",
    "test_dataloader = DataLoader(\n",
    "    test_dataset,\n",
    "    BATCH_SIZE,\n",
    "    pin_memory=False,\n",
    "    shuffle=False,\n",
    "    collate_fn=test_dataset.collate_fn,\n",
    ")"
   ]
  },
  {
   "cell_type": "code",
   "execution_count": null,
   "metadata": {},
   "outputs": [],
   "source": [
    "model = BiLSTM_CRF(EMBEDDING_DIM, HIDDEN_DIM, word2id, tag2id, device)\n",
    "model.to(device)\n",
    "optimizer = optim.Adam(model.parameters(), lr=0.01, weight_decay=1e-4)"
   ]
  },
  {
   "cell_type": "code",
   "execution_count": null,
   "metadata": {},
   "outputs": [],
   "source": [
    "runner = Runner(model, optimizer, len(tag2id))\n",
    "runner.load_model(f\"{Language}{param_num}.pth\")\n",
    "runner.evaluate(test_dataloader)"
   ]
  },
  {
   "cell_type": "code",
   "execution_count": null,
   "metadata": {},
   "outputs": [],
   "source": [
    "from pathlib import Path\n",
    "import sys\n",
    "from tqdm import tqdm\n",
    "\n",
    "sys.path.append(str(Path.cwd().parent))\n",
    "\n",
    "from NER.check import check\n",
    "\n",
    "output_file = f\"output_{Language}.txt\"\n",
    "with torch.no_grad() and open(output_file, \"w\", encoding=\"utf-8\") as f:\n",
    "    model.eval()\n",
    "    model.state = \"eval\"\n",
    "    my_tags = []\n",
    "    real_tags = []\n",
    "    for sentence, _, sentence_len in tqdm(test_dataloader):\n",
    "        sentence = sentence.to(device)\n",
    "        sentence_len = sentence_len.to(device)\n",
    "        pred_tags = model(sentence, sentence_len)\n",
    "        for sent, tags in zip(sentence, pred_tags):\n",
    "            for word_id, tag_id in zip(sent, tags):\n",
    "                f.write(f\"{id2word[int(word_id)]} {id2tag[int(tag_id)]}\\n\")\n",
    "            f.write(\"\\n\")\n",
    "\n",
    "\n",
    "report = check(\n",
    "    language=Language,\n",
    "    gold_path=f\"../NER/{Language}/test.txt\",\n",
    "    my_path=output_file,\n",
    ")"
   ]
  }
 ],
 "metadata": {
  "kernelspec": {
   "display_name": "Python 3",
   "language": "python",
   "name": "python3"
  },
  "language_info": {
   "codemirror_mode": {
    "name": "ipython",
    "version": 3
   },
   "file_extension": ".py",
   "mimetype": "text/x-python",
   "name": "python",
   "nbconvert_exporter": "python",
   "pygments_lexer": "ipython3",
   "version": "3.9.18"
  }
 },
 "nbformat": 4,
 "nbformat_minor": 2
}

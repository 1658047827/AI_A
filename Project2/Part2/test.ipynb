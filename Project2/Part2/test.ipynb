{
 "cells": [
  {
   "cell_type": "code",
   "execution_count": 13,
   "metadata": {},
   "outputs": [],
   "source": [
    "# Language = \"English\"\n",
    "Language = \"Chinese\"\n",
    "mode = \"test\"\n",
    "param_num = 1"
   ]
  },
  {
   "cell_type": "code",
   "execution_count": 14,
   "metadata": {},
   "outputs": [
    {
     "name": "stdout",
     "output_type": "stream",
     "text": [
      "2023-11-28 21:16:24,336 P31300 INFO train dataset size: 3820\n",
      "2023-11-28 21:16:24,336 P31300 INFO valid dataset size: 462\n"
     ]
    },
    {
     "name": "stdout",
     "output_type": "stream",
     "text": [
      "2023-11-28 21:16:24,337 P31300 INFO test dataset size: 476\n"
     ]
    }
   ],
   "source": [
    "from pathlib import Path\n",
    "import sys\n",
    "\n",
    "sys.path.append(str(Path.cwd().parent))\n",
    "\n",
    "from Part1.dataprocess import data_process, set_log, combine_data\n",
    "from sklearn_crf import sent2features\n",
    "\n",
    "\n",
    "set_log(None)\n",
    "train_data, valid_data, test_data = data_process(f\"../NER/{Language}\", mode=mode)\n",
    "\n",
    "x_train = [sent2features(sentence, Language, param_num) for sentence, _ in train_data]\n",
    "y_train = [label for _, label in train_data]\n",
    "x_valid = [sent2features(sentence, Language, param_num) for sentence, _ in valid_data]\n",
    "y_valid = [label for _, label in valid_data]\n",
    "x_test = [sent2features(sentence, Language, param_num) for sentence, _ in test_data]\n",
    "y_test = [label for _, label in test_data]"
   ]
  },
  {
   "cell_type": "code",
   "execution_count": 15,
   "metadata": {},
   "outputs": [],
   "source": [
    "import pickle\n",
    "from sklearn_crfsuite import CRF\n",
    "\n",
    "\n",
    "if param_num == 0:\n",
    "    crf_model = CRF(\n",
    "        algorithm=\"lbfgs\",\n",
    "        c1=0.01,\n",
    "        c2=0.01,\n",
    "        max_iterations=200,\n",
    "        all_possible_transitions=True,\n",
    "        verbose=True,\n",
    "    )\n",
    "elif param_num == 1:\n",
    "    crf_model = CRF(\n",
    "        algorithm=\"ap\",\n",
    "        max_iterations=300,\n",
    "        all_possible_transitions=True,\n",
    "        verbose=True,\n",
    "    )\n",
    "elif param_num == 2:\n",
    "    raise NotImplementedError\n",
    "\n",
    "with open(f\"crf_{Language}{param_num}.pkl\", \"rb\") as f:\n",
    "    crf_model = pickle.load(f)\n",
    "\n",
    "y_pred = crf_model.predict(x_test)\n",
    "combined_data = combine_data([sentence for sentence, _ in test_data], y_pred)\n",
    "\n",
    "output_file = f\"output_{Language}.txt\"\n",
    "with open(output_file, \"w\", encoding=\"utf-8\") as file:\n",
    "    file.write(combined_data)"
   ]
  },
  {
   "cell_type": "code",
   "execution_count": 16,
   "metadata": {},
   "outputs": [
    {
     "name": "stdout",
     "output_type": "stream",
     "text": [
      "              precision    recall  f1-score   support\n",
      "\n",
      "      B-NAME     0.9649    0.9821    0.9735       112\n",
      "      M-NAME     0.9518    0.9634    0.9576        82\n",
      "      E-NAME     0.9735    0.9821    0.9778       112\n",
      "      S-NAME     0.0000    0.0000    0.0000         0\n",
      "      B-CONT     1.0000    1.0000    1.0000        28\n",
      "      M-CONT     1.0000    1.0000    1.0000        53\n",
      "      E-CONT     1.0000    1.0000    1.0000        28\n",
      "      S-CONT     0.0000    0.0000    0.0000         0\n",
      "       B-EDU     0.9732    0.9732    0.9732       112\n",
      "       M-EDU     0.9609    0.9609    0.9609       179\n",
      "       E-EDU     0.9821    0.9821    0.9821       112\n",
      "       S-EDU     0.0000    0.0000    0.0000         0\n",
      "     B-TITLE     0.9365    0.9390    0.9377       770\n",
      "     M-TITLE     0.9544    0.9037    0.9283      1921\n",
      "     E-TITLE     0.9818    0.9831    0.9825       770\n",
      "     S-TITLE     0.0000    0.0000    0.0000         0\n",
      "       B-ORG     0.9299    0.9620    0.9457       552\n",
      "       M-ORG     0.9384    0.9645    0.9513      4312\n",
      "       E-ORG     0.8942    0.9185    0.9062       552\n",
      "       S-ORG     0.0000    0.0000    0.0000         0\n",
      "      B-RACE     1.0000    1.0000    1.0000        14\n",
      "      M-RACE     0.0000    0.0000    0.0000         0\n",
      "      E-RACE     1.0000    1.0000    1.0000        14\n",
      "      S-RACE     0.0000    0.0000    0.0000         0\n",
      "       B-PRO     0.9643    0.8182    0.8852        33\n",
      "       M-PRO     0.8333    0.8088    0.8209        68\n",
      "       E-PRO     0.9118    0.9394    0.9254        33\n",
      "       S-PRO     0.0000    0.0000    0.0000         0\n",
      "       B-LOC     0.7143    0.8333    0.7692         6\n",
      "       M-LOC     0.7391    0.8095    0.7727        21\n",
      "       E-LOC     0.8333    0.8333    0.8333         6\n",
      "       S-LOC     0.0000    0.0000    0.0000         0\n",
      "\n",
      "   micro avg     0.9431    0.9484    0.9458      9890\n",
      "   macro avg     0.6699    0.6737    0.6714      9890\n",
      "weighted avg     0.9434    0.9484    0.9457      9890\n",
      "\n"
     ]
    }
   ],
   "source": [
    "from NER.check import check\n",
    "\n",
    "report = check(\n",
    "    language=Language,\n",
    "    gold_path=f\"../NER/{Language}/test.txt\",\n",
    "    my_path=output_file,\n",
    ")"
   ]
  }
 ],
 "metadata": {
  "kernelspec": {
   "display_name": "Python 3",
   "language": "python",
   "name": "python3"
  },
  "language_info": {
   "codemirror_mode": {
    "name": "ipython",
    "version": 3
   },
   "file_extension": ".py",
   "mimetype": "text/x-python",
   "name": "python",
   "nbconvert_exporter": "python",
   "pygments_lexer": "ipython3",
   "version": "3.9.18"
  }
 },
 "nbformat": 4,
 "nbformat_minor": 2
}

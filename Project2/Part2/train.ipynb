{
 "cells": [
  {
   "cell_type": "code",
   "execution_count": null,
   "metadata": {},
   "outputs": [],
   "source": [
    "Language = \"English\"\n",
    "# Language = \"Chinese\"\n",
    "mode = \"train\"\n",
    "param_num = 1"
   ]
  },
  {
   "cell_type": "code",
   "execution_count": null,
   "metadata": {},
   "outputs": [],
   "source": [
    "from pathlib import Path\n",
    "import sys\n",
    "\n",
    "sys.path.append(str(Path.cwd().parent))\n",
    "\n",
    "from Part1.dataprocess import data_process, set_log, combine_data\n",
    "from sklearn_crf import sent2features\n",
    "\n",
    "\n",
    "set_log(None)\n",
    "train_data, valid_data, test_data = data_process(f\"../NER/{Language}\", mode=mode)\n",
    "\n",
    "x_train = [sent2features(sentence, Language, param_num) for sentence, _ in train_data]\n",
    "y_train = [label for _, label in train_data]\n",
    "x_valid = [sent2features(sentence, Language, param_num) for sentence, _ in valid_data]\n",
    "y_valid = [label for _, label in valid_data]"
   ]
  },
  {
   "cell_type": "code",
   "execution_count": null,
   "metadata": {},
   "outputs": [],
   "source": [
    "import pickle\n",
    "from sklearn_crfsuite import CRF\n",
    "\n",
    "if param_num == 0:\n",
    "    crf_model = CRF(\n",
    "        algorithm=\"lbfgs\",\n",
    "        c1=0.01,\n",
    "        c2=0.01,\n",
    "        max_iterations=200,\n",
    "        all_possible_transitions=True,\n",
    "        verbose=True,\n",
    "    )\n",
    "elif param_num == 1:\n",
    "    crf_model = CRF(\n",
    "        algorithm=\"ap\",\n",
    "        max_iterations=300,\n",
    "        all_possible_transitions=True,\n",
    "        verbose=True,\n",
    "    )\n",
    "elif param_num == 2:\n",
    "    raise NotImplementedError\n",
    "\n",
    "crf_model.fit(x_train, y_train)\n",
    "with open(f\"crf_{Language}{param_num}.pkl\", \"wb\") as f:\n",
    "    pickle.dump(crf_model, f)\n",
    "\n",
    "y_pred = crf_model.predict(x_valid)\n",
    "combined_data = combine_data([sentence for sentence, _ in valid_data], y_pred)\n",
    "\n",
    "output_file = f\"output_{Language}.txt\"\n",
    "with open(output_file, \"w\", encoding=\"utf-8\") as file:\n",
    "    file.write(combined_data)"
   ]
  },
  {
   "cell_type": "code",
   "execution_count": null,
   "metadata": {},
   "outputs": [],
   "source": [
    "from NER.check import check\n",
    "\n",
    "report = check(\n",
    "    language=Language,\n",
    "    gold_path=f\"../NER/{Language}/validation.txt\",\n",
    "    my_path=output_file,\n",
    ")"
   ]
  }
 ],
 "metadata": {
  "kernelspec": {
   "display_name": "Python 3",
   "language": "python",
   "name": "python3"
  },
  "language_info": {
   "codemirror_mode": {
    "name": "ipython",
    "version": 3
   },
   "file_extension": ".py",
   "mimetype": "text/x-python",
   "name": "python",
   "nbconvert_exporter": "python",
   "pygments_lexer": "ipython3",
   "version": "3.9.18"
  }
 },
 "nbformat": 4,
 "nbformat_minor": 2
}

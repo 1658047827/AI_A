{
 "cells": [
  {
   "cell_type": "markdown",
   "metadata": {},
   "source": [
    "首先导入相关的 `module` 、`class` 和 `function` 。"
   ]
  },
  {
   "cell_type": "code",
   "execution_count": 1,
   "metadata": {},
   "outputs": [],
   "source": [
    "import os\n",
    "import logging\n",
    "import numpy as np\n",
    "from utils import Dataset, DataLoader\n",
    "from init import seed_everything, dump_args, data_preprocess\n",
    "from model import MLPClassifier, accuracy\n",
    "from nn import CrossEntropyLoss"
   ]
  },
  {
   "cell_type": "markdown",
   "metadata": {},
   "source": [
    "接着让 `CharDataset` 继承 `Dataset` ，定义数据集。"
   ]
  },
  {
   "cell_type": "code",
   "execution_count": 2,
   "metadata": {},
   "outputs": [],
   "source": [
    "class CharDataset(Dataset):\n",
    "    def __init__(self, x, y):\n",
    "        self.x = x\n",
    "        self.y = y\n",
    "        self.len = x.shape[0]\n",
    "\n",
    "    def __getitem__(self, index):\n",
    "        return {\"x\": self.x[index], \"y\": self.y[index]}\n",
    "\n",
    "    def __len__(self):\n",
    "        return self.len"
   ]
  },
  {
   "cell_type": "markdown",
   "metadata": {},
   "source": [
    "接着使用 `args` 存储相关的参数，同时使用 `dump_args` 导出本次运行的参数到文件。"
   ]
  },
  {
   "cell_type": "code",
   "execution_count": 3,
   "metadata": {},
   "outputs": [
    {
     "name": "stdout",
     "output_type": "stream",
     "text": [
      "2023-10-08 19:30:35,480 P22608 INFO Dump args: {\n",
      "    \"epoches\": 100,\n",
      "    \"batch_size\": 64,\n",
      "    \"learning_rate\": 0.0005,\n",
      "    \"record_path\": \"./record/char\",\n",
      "    \"save_path\": \"./save/char/best_model.pkl\",\n",
      "    \"raw_data_path\": \"./data/char/train_raw\",\n",
      "    \"data_path\": \"./data/char/data.npz\",\n",
      "    \"random_seed\": 42,\n",
      "    \"mode\": \"train\",\n",
      "    \"hash_id\": \"f4de8fba\"\n",
      "}\n"
     ]
    }
   ],
   "source": [
    "args = {}\n",
    "args[\"epoches\"] = 100\n",
    "args[\"batch_size\"] = 64\n",
    "args[\"learning_rate\"] = 0.0005\n",
    "args[\"record_path\"] = \"./record/char\"\n",
    "args[\"save_path\"] = \"./save/char/best_model.pkl\"\n",
    "args[\"raw_data_path\"] = \"./data/char/train_raw\"\n",
    "args[\"data_path\"] = \"./data/char/data.npz\"\n",
    "args[\"random_seed\"] = 42\n",
    "args[\"mode\"] = \"train\"  # [\"train\", \"test\", \"train_and_test\"]\n",
    "\n",
    "record_path = dump_args(args, args[\"record_path\"], args[\"mode\"])"
   ]
  },
  {
   "cell_type": "markdown",
   "metadata": {},
   "source": [
    "使用 `seed_everything` 设置随机数种子，确保整个过程可重复。"
   ]
  },
  {
   "cell_type": "code",
   "execution_count": 4,
   "metadata": {},
   "outputs": [],
   "source": [
    "seed_everything(args[\"random_seed\"])"
   ]
  },
  {
   "cell_type": "markdown",
   "metadata": {},
   "source": [
    "尝试加载训练数据，如果训练数据不存在，则通过 `data_preprocess` 生成。加载数据后初始化训练集和验证集。"
   ]
  },
  {
   "cell_type": "code",
   "execution_count": 5,
   "metadata": {},
   "outputs": [],
   "source": [
    "if not os.path.exists(args[\"data_path\"]):\n",
    "    data_preprocess(args[\"raw_data_path\"], args[\"data_path\"], shuffle=True)\n",
    "data_npz = np.load(args[\"data_path\"])\n",
    "\n",
    "dataset_train = CharDataset(data_npz[\"x_train\"], data_npz[\"y_train\"])\n",
    "dataloader_train = DataLoader(dataset_train, args[\"batch_size\"], shuffle=True)\n",
    "\n",
    "dataset_valid = CharDataset(data_npz[\"x_valid\"], data_npz[\"y_valid\"])\n",
    "dataloader_valid = DataLoader(dataset_valid, args[\"batch_size\"], shuffle=False)"
   ]
  },
  {
   "cell_type": "markdown",
   "metadata": {},
   "source": [
    "初始化分类器对象，然后尝试加载预训练的模型，接着根据当前的 `args[\"mode\"]` 判断是否进行训练。"
   ]
  },
  {
   "cell_type": "code",
   "execution_count": 7,
   "metadata": {},
   "outputs": [
    {
     "name": "stdout",
     "output_type": "stream",
     "text": [
      "2023-10-08 19:31:07,703 P22608 INFO valid_acc: 0.382552, valid_loss: 1.980094\n",
      "2023-10-08 19:31:07,704 P22608 INFO Best validation accuracy has been updated: 0.000000 -> 0.382552\n",
      "2023-10-08 19:31:07,755 P22608 INFO Save model to ./save/char/best_model.pkl\n",
      "2023-10-08 19:31:13,295 P22608 INFO valid_acc: 0.402604, valid_loss: 1.820580\n",
      "2023-10-08 19:31:13,296 P22608 INFO Best validation accuracy has been updated: 0.382552 -> 0.402604\n",
      "2023-10-08 19:31:13,358 P22608 INFO Save model to ./save/char/best_model.pkl\n",
      "2023-10-08 19:31:18,769 P22608 INFO valid_acc: 0.621354, valid_loss: 1.287665\n",
      "2023-10-08 19:31:18,770 P22608 INFO Best validation accuracy has been updated: 0.402604 -> 0.621354\n",
      "2023-10-08 19:31:18,814 P22608 INFO Save model to ./save/char/best_model.pkl\n",
      "2023-10-08 19:31:24,200 P22608 INFO valid_acc: 0.618750, valid_loss: 1.301226\n",
      "2023-10-08 19:31:29,501 P22608 INFO Train epoch 5/100, learning rate: 0.0005, train loss: 0.684035, train_acc: 0.794077 [5.30s]\n",
      "2023-10-08 19:31:29,607 P22608 INFO valid_acc: 0.714062, valid_loss: 0.917366\n",
      "2023-10-08 19:31:29,609 P22608 INFO Best validation accuracy has been updated: 0.621354 -> 0.714062\n",
      "2023-10-08 19:31:29,661 P22608 INFO Save model to ./save/char/best_model.pkl\n",
      "2023-10-08 19:31:35,003 P22608 INFO valid_acc: 0.748437, valid_loss: 0.807818\n",
      "2023-10-08 19:31:35,004 P22608 INFO Best validation accuracy has been updated: 0.714062 -> 0.748437\n",
      "2023-10-08 19:31:35,058 P22608 INFO Save model to ./save/char/best_model.pkl\n",
      "2023-10-08 19:31:40,472 P22608 INFO valid_acc: 0.789583, valid_loss: 0.672286\n",
      "2023-10-08 19:31:40,474 P22608 INFO Best validation accuracy has been updated: 0.748437 -> 0.789583\n",
      "2023-10-08 19:31:40,523 P22608 INFO Save model to ./save/char/best_model.pkl\n",
      "2023-10-08 19:31:45,810 P22608 INFO valid_acc: 0.785417, valid_loss: 0.668840\n",
      "2023-10-08 19:31:51,273 P22608 INFO valid_acc: 0.801302, valid_loss: 0.632983\n",
      "2023-10-08 19:31:51,274 P22608 INFO Best validation accuracy has been updated: 0.789583 -> 0.801302\n",
      "2023-10-08 19:31:51,333 P22608 INFO Save model to ./save/char/best_model.pkl\n",
      "2023-10-08 19:31:56,819 P22608 INFO Train epoch 10/100, learning rate: 0.0005, train loss: 0.346648, train_acc: 0.906131 [5.49s]\n",
      "2023-10-08 19:31:56,932 P22608 INFO valid_acc: 0.719792, valid_loss: 0.893417\n",
      "2023-10-08 19:32:02,939 P22608 INFO valid_acc: 0.800000, valid_loss: 0.616549\n",
      "2023-10-08 19:32:09,845 P22608 INFO valid_acc: 0.797917, valid_loss: 0.678130\n",
      "2023-10-08 19:32:15,276 P22608 INFO valid_acc: 0.824479, valid_loss: 0.566152\n",
      "2023-10-08 19:32:15,277 P22608 INFO Best validation accuracy has been updated: 0.801302 -> 0.824479\n",
      "2023-10-08 19:32:15,333 P22608 INFO Save model to ./save/char/best_model.pkl\n",
      "2023-10-08 19:32:20,729 P22608 INFO valid_acc: 0.826302, valid_loss: 0.545821\n",
      "2023-10-08 19:32:20,730 P22608 INFO Best validation accuracy has been updated: 0.824479 -> 0.826302\n",
      "2023-10-08 19:32:20,775 P22608 INFO Save model to ./save/char/best_model.pkl\n",
      "2023-10-08 19:32:26,060 P22608 INFO Train epoch 15/100, learning rate: 0.0005, train loss: 0.192772, train_acc: 0.954494 [5.28s]\n",
      "2023-10-08 19:32:26,176 P22608 INFO valid_acc: 0.808854, valid_loss: 0.603169\n",
      "2023-10-08 19:32:31,650 P22608 INFO valid_acc: 0.841927, valid_loss: 0.528716\n",
      "2023-10-08 19:32:31,651 P22608 INFO Best validation accuracy has been updated: 0.826302 -> 0.841927\n",
      "2023-10-08 19:32:31,698 P22608 INFO Save model to ./save/char/best_model.pkl\n",
      "2023-10-08 19:32:37,168 P22608 INFO valid_acc: 0.821615, valid_loss: 0.536964\n",
      "2023-10-08 19:32:42,692 P22608 INFO valid_acc: 0.842969, valid_loss: 0.524190\n",
      "2023-10-08 19:32:42,693 P22608 INFO Best validation accuracy has been updated: 0.841927 -> 0.842969\n",
      "2023-10-08 19:32:42,740 P22608 INFO Save model to ./save/char/best_model.pkl\n",
      "2023-10-08 19:32:48,027 P22608 INFO valid_acc: 0.842969, valid_loss: 0.526031\n",
      "2023-10-08 19:32:53,358 P22608 INFO Train epoch 20/100, learning rate: 0.0005, train loss: 0.117804, train_acc: 0.980119 [5.33s]\n",
      "2023-10-08 19:32:53,464 P22608 INFO valid_acc: 0.841667, valid_loss: 0.528538\n",
      "2023-10-08 19:32:58,781 P22608 INFO valid_acc: 0.826562, valid_loss: 0.521681\n",
      "2023-10-08 19:33:04,072 P22608 INFO valid_acc: 0.826562, valid_loss: 0.572551\n",
      "2023-10-08 19:33:09,345 P22608 INFO valid_acc: 0.832552, valid_loss: 0.548146\n",
      "2023-10-08 19:33:14,633 P22608 INFO valid_acc: 0.834896, valid_loss: 0.542887\n",
      "2023-10-08 19:33:19,816 P22608 INFO Train epoch 25/100, learning rate: 0.0005, train loss: 0.068825, train_acc: 0.993958 [5.18s]\n",
      "2023-10-08 19:33:19,916 P22608 INFO valid_acc: 0.836979, valid_loss: 0.519526\n",
      "2023-10-08 19:33:25,115 P22608 INFO valid_acc: 0.854948, valid_loss: 0.507191\n",
      "2023-10-08 19:33:25,116 P22608 INFO Best validation accuracy has been updated: 0.842969 -> 0.854948\n",
      "2023-10-08 19:33:25,169 P22608 INFO Save model to ./save/char/best_model.pkl\n",
      "2023-10-08 19:33:30,459 P22608 INFO valid_acc: 0.822135, valid_loss: 0.604509\n",
      "2023-10-08 19:33:35,738 P22608 INFO valid_acc: 0.835156, valid_loss: 0.563016\n",
      "2023-10-08 19:33:41,054 P22608 INFO valid_acc: 0.851562, valid_loss: 0.522278\n",
      "2023-10-08 19:33:46,234 P22608 INFO Train epoch 30/100, learning rate: 0.0005, train loss: 0.046006, train_acc: 0.997768 [5.18s]\n",
      "2023-10-08 19:33:46,340 P22608 INFO valid_acc: 0.852083, valid_loss: 0.486071\n",
      "2023-10-08 19:33:51,645 P22608 INFO valid_acc: 0.848177, valid_loss: 0.499685\n",
      "2023-10-08 19:33:56,954 P22608 INFO valid_acc: 0.833854, valid_loss: 0.573335\n",
      "2023-10-08 19:34:02,193 P22608 INFO valid_acc: 0.847656, valid_loss: 0.515679\n",
      "2023-10-08 19:34:07,451 P22608 INFO valid_acc: 0.853646, valid_loss: 0.483605\n",
      "2023-10-08 19:34:12,729 P22608 INFO Train epoch 35/100, learning rate: 0.0005, train loss: 0.032589, train_acc: 0.999107 [5.28s]\n",
      "2023-10-08 19:34:12,829 P22608 INFO valid_acc: 0.858854, valid_loss: 0.489712\n",
      "2023-10-08 19:34:12,830 P22608 INFO Best validation accuracy has been updated: 0.854948 -> 0.858854\n",
      "2023-10-08 19:34:12,883 P22608 INFO Save model to ./save/char/best_model.pkl\n",
      "2023-10-08 19:34:18,131 P22608 INFO valid_acc: 0.855469, valid_loss: 0.515136\n",
      "2023-10-08 19:34:23,387 P22608 INFO valid_acc: 0.854167, valid_loss: 0.506522\n",
      "2023-10-08 19:34:28,614 P22608 INFO valid_acc: 0.853906, valid_loss: 0.511179\n",
      "2023-10-08 19:34:33,881 P22608 INFO valid_acc: 0.863281, valid_loss: 0.491670\n",
      "2023-10-08 19:34:33,882 P22608 INFO Best validation accuracy has been updated: 0.858854 -> 0.863281\n",
      "2023-10-08 19:34:33,926 P22608 INFO Save model to ./save/char/best_model.pkl\n",
      "2023-10-08 19:34:39,074 P22608 INFO Train epoch 40/100, learning rate: 0.0005, train loss: 0.025226, train_acc: 0.999256 [5.15s]\n",
      "2023-10-08 19:34:39,171 P22608 INFO valid_acc: 0.856771, valid_loss: 0.480874\n",
      "2023-10-08 19:34:44,460 P22608 INFO valid_acc: 0.860677, valid_loss: 0.490593\n",
      "2023-10-08 19:34:49,636 P22608 INFO valid_acc: 0.854167, valid_loss: 0.483774\n",
      "2023-10-08 19:34:54,869 P22608 INFO valid_acc: 0.850781, valid_loss: 0.520034\n",
      "2023-10-08 19:35:00,085 P22608 INFO valid_acc: 0.859375, valid_loss: 0.483764\n",
      "2023-10-08 19:35:05,217 P22608 INFO Train epoch 45/100, learning rate: 0.0005, train loss: 0.019945, train_acc: 0.999405 [5.13s]\n",
      "2023-10-08 19:35:05,316 P22608 INFO valid_acc: 0.858073, valid_loss: 0.497425\n",
      "2023-10-08 19:35:10,624 P22608 INFO valid_acc: 0.856771, valid_loss: 0.506747\n",
      "2023-10-08 19:35:15,905 P22608 INFO valid_acc: 0.859375, valid_loss: 0.494344\n",
      "2023-10-08 19:35:21,122 P22608 INFO valid_acc: 0.865104, valid_loss: 0.503128\n",
      "2023-10-08 19:35:21,123 P22608 INFO Best validation accuracy has been updated: 0.863281 -> 0.865104\n",
      "2023-10-08 19:35:21,167 P22608 INFO Save model to ./save/char/best_model.pkl\n",
      "2023-10-08 19:35:26,484 P22608 INFO valid_acc: 0.859375, valid_loss: 0.496608\n",
      "2023-10-08 19:35:31,626 P22608 INFO Train epoch 50/100, learning rate: 0.0005, train loss: 0.016580, train_acc: 0.999851 [5.14s]\n",
      "2023-10-08 19:35:31,725 P22608 INFO valid_acc: 0.859375, valid_loss: 0.496467\n",
      "2023-10-08 19:35:37,000 P22608 INFO valid_acc: 0.859896, valid_loss: 0.498422\n",
      "2023-10-08 19:35:42,219 P22608 INFO valid_acc: 0.858594, valid_loss: 0.500860\n",
      "2023-10-08 19:35:47,487 P22608 INFO valid_acc: 0.864583, valid_loss: 0.487328\n",
      "2023-10-08 19:35:52,753 P22608 INFO valid_acc: 0.864063, valid_loss: 0.491527\n",
      "2023-10-08 19:35:57,924 P22608 INFO Train epoch 55/100, learning rate: 0.0005, train loss: 0.013952, train_acc: 0.999851 [5.17s]\n",
      "2023-10-08 19:35:58,024 P22608 INFO valid_acc: 0.865885, valid_loss: 0.499870\n",
      "2023-10-08 19:35:58,025 P22608 INFO Best validation accuracy has been updated: 0.865104 -> 0.865885\n",
      "2023-10-08 19:35:58,067 P22608 INFO Save model to ./save/char/best_model.pkl\n",
      "2023-10-08 19:36:03,366 P22608 INFO valid_acc: 0.867969, valid_loss: 0.492437\n",
      "2023-10-08 19:36:03,367 P22608 INFO Best validation accuracy has been updated: 0.865885 -> 0.867969\n",
      "2023-10-08 19:36:03,415 P22608 INFO Save model to ./save/char/best_model.pkl\n",
      "2023-10-08 19:36:08,714 P22608 INFO valid_acc: 0.861198, valid_loss: 0.502356\n",
      "2023-10-08 19:36:13,989 P22608 INFO valid_acc: 0.860677, valid_loss: 0.493755\n",
      "2023-10-08 19:36:19,223 P22608 INFO valid_acc: 0.868490, valid_loss: 0.495104\n",
      "2023-10-08 19:36:19,224 P22608 INFO Best validation accuracy has been updated: 0.867969 -> 0.868490\n",
      "2023-10-08 19:36:19,267 P22608 INFO Save model to ./save/char/best_model.pkl\n",
      "2023-10-08 19:36:24,486 P22608 INFO Train epoch 60/100, learning rate: 0.0005, train loss: 0.012307, train_acc: 0.999702 [5.22s]\n",
      "2023-10-08 19:36:24,591 P22608 INFO valid_acc: 0.867188, valid_loss: 0.499709\n",
      "2023-10-08 19:36:29,840 P22608 INFO valid_acc: 0.863802, valid_loss: 0.495769\n",
      "2023-10-08 19:36:35,152 P22608 INFO valid_acc: 0.865885, valid_loss: 0.492932\n",
      "2023-10-08 19:36:40,440 P22608 INFO valid_acc: 0.867188, valid_loss: 0.494472\n",
      "2023-10-08 19:36:45,690 P22608 INFO valid_acc: 0.865885, valid_loss: 0.504365\n",
      "2023-10-08 19:36:50,863 P22608 INFO Train epoch 65/100, learning rate: 0.0005, train loss: 0.010850, train_acc: 0.999851 [5.17s]\n",
      "2023-10-08 19:36:50,964 P22608 INFO valid_acc: 0.863281, valid_loss: 0.494992\n",
      "2023-10-08 19:36:56,311 P22608 INFO valid_acc: 0.867708, valid_loss: 0.494363\n",
      "2023-10-08 19:37:01,566 P22608 INFO valid_acc: 0.864583, valid_loss: 0.493307\n",
      "2023-10-08 19:37:06,733 P22608 INFO valid_acc: 0.865104, valid_loss: 0.498433\n",
      "2023-10-08 19:37:11,974 P22608 INFO valid_acc: 0.861979, valid_loss: 0.492707\n",
      "2023-10-08 19:37:17,143 P22608 INFO Train epoch 70/100, learning rate: 0.0005, train loss: 0.009635, train_acc: 0.999851 [5.17s]\n",
      "2023-10-08 19:37:17,239 P22608 INFO valid_acc: 0.870573, valid_loss: 0.496912\n",
      "2023-10-08 19:37:17,240 P22608 INFO Best validation accuracy has been updated: 0.868490 -> 0.870573\n",
      "2023-10-08 19:37:17,292 P22608 INFO Save model to ./save/char/best_model.pkl\n",
      "2023-10-08 19:37:22,581 P22608 INFO valid_acc: 0.864583, valid_loss: 0.490932\n",
      "2023-10-08 19:37:27,785 P22608 INFO valid_acc: 0.864583, valid_loss: 0.497079\n",
      "2023-10-08 19:37:33,054 P22608 INFO valid_acc: 0.861198, valid_loss: 0.491578\n",
      "2023-10-08 19:37:38,368 P22608 INFO valid_acc: 0.859375, valid_loss: 0.498896\n",
      "2023-10-08 19:37:43,785 P22608 INFO Train epoch 75/100, learning rate: 0.0005, train loss: 0.008642, train_acc: 0.999851 [5.42s]\n",
      "2023-10-08 19:37:43,902 P22608 INFO valid_acc: 0.859896, valid_loss: 0.533188\n",
      "2023-10-08 19:37:49,153 P22608 INFO valid_acc: 0.868490, valid_loss: 0.496675\n",
      "2023-10-08 19:37:54,426 P22608 INFO valid_acc: 0.866406, valid_loss: 0.500404\n",
      "2023-10-08 19:37:59,691 P22608 INFO valid_acc: 0.866406, valid_loss: 0.502237\n",
      "2023-10-08 19:38:04,889 P22608 INFO valid_acc: 0.871094, valid_loss: 0.496054\n",
      "2023-10-08 19:38:04,890 P22608 INFO Best validation accuracy has been updated: 0.870573 -> 0.871094\n",
      "2023-10-08 19:38:04,938 P22608 INFO Save model to ./save/char/best_model.pkl\n",
      "2023-10-08 19:38:10,214 P22608 INFO Train epoch 80/100, learning rate: 0.0005, train loss: 0.007984, train_acc: 0.999851 [5.27s]\n",
      "2023-10-08 19:38:10,313 P22608 INFO valid_acc: 0.867188, valid_loss: 0.499708\n",
      "2023-10-08 19:38:15,621 P22608 INFO valid_acc: 0.862500, valid_loss: 0.499819\n",
      "2023-10-08 19:38:20,913 P22608 INFO valid_acc: 0.864583, valid_loss: 0.495522\n",
      "2023-10-08 19:38:26,188 P22608 INFO valid_acc: 0.859896, valid_loss: 0.531835\n",
      "2023-10-08 19:38:31,449 P22608 INFO valid_acc: 0.865104, valid_loss: 0.498551\n",
      "2023-10-08 19:38:36,542 P22608 INFO Train epoch 85/100, learning rate: 0.0005, train loss: 0.007456, train_acc: 0.999702 [5.09s]\n",
      "2023-10-08 19:38:36,660 P22608 INFO valid_acc: 0.870312, valid_loss: 0.499616\n",
      "2023-10-08 19:38:41,924 P22608 INFO valid_acc: 0.866406, valid_loss: 0.497986\n",
      "2023-10-08 19:38:47,130 P22608 INFO valid_acc: 0.865885, valid_loss: 0.497144\n",
      "2023-10-08 19:38:52,414 P22608 INFO valid_acc: 0.867188, valid_loss: 0.498380\n",
      "2023-10-08 19:38:57,722 P22608 INFO valid_acc: 0.866406, valid_loss: 0.514514\n",
      "2023-10-08 19:39:02,872 P22608 INFO Train epoch 90/100, learning rate: 0.0005, train loss: 0.006725, train_acc: 0.999851 [5.15s]\n",
      "2023-10-08 19:39:02,986 P22608 INFO valid_acc: 0.866406, valid_loss: 0.507101\n",
      "2023-10-08 19:39:08,251 P22608 INFO valid_acc: 0.861198, valid_loss: 0.504701\n",
      "2023-10-08 19:39:13,600 P22608 INFO valid_acc: 0.866406, valid_loss: 0.502773\n",
      "2023-10-08 19:39:18,849 P22608 INFO valid_acc: 0.864583, valid_loss: 0.500241\n",
      "2023-10-08 19:39:24,063 P22608 INFO valid_acc: 0.869792, valid_loss: 0.501427\n",
      "2023-10-08 19:39:29,144 P22608 INFO Train epoch 95/100, learning rate: 0.0005, train loss: 0.006331, train_acc: 0.999851 [5.08s]\n",
      "2023-10-08 19:39:29,240 P22608 INFO valid_acc: 0.863281, valid_loss: 0.499072\n",
      "2023-10-08 19:39:34,531 P22608 INFO valid_acc: 0.865104, valid_loss: 0.506818\n",
      "2023-10-08 19:39:39,743 P22608 INFO valid_acc: 0.867188, valid_loss: 0.526906\n",
      "2023-10-08 19:39:44,973 P22608 INFO valid_acc: 0.865885, valid_loss: 0.493384\n",
      "2023-10-08 19:39:50,194 P22608 INFO valid_acc: 0.866406, valid_loss: 0.503819\n",
      "2023-10-08 19:39:55,405 P22608 INFO Train epoch 100/100, learning rate: 0.0005, train loss: 0.006171, train_acc: 0.999702 [5.21s]\n",
      "2023-10-08 19:39:55,528 P22608 INFO valid_acc: 0.867708, valid_loss: 0.501771\n",
      "2023-10-08 19:39:55,554 P22608 INFO Load model from ./save/char/best_model.pkl\n"
     ]
    }
   ],
   "source": [
    "classifier = MLPClassifier(28 * 28, 12)\n",
    "if os.path.exists(args[\"save_path\"]):\n",
    "    classifier.load_model(args[\"save_path\"])\n",
    "if args[\"mode\"] == \"train\" or args[\"mode\"] == \"train_and_test\":\n",
    "    classifier.fit(\n",
    "        train_loader=dataloader_train,\n",
    "        valid_loader=dataloader_valid,\n",
    "        epoches=args[\"epoches\"],\n",
    "        learning_rate=args[\"learning_rate\"],\n",
    "        save_path=args[\"save_path\"],\n",
    "        log_interval=5,\n",
    "    )"
   ]
  },
  {
   "cell_type": "markdown",
   "metadata": {},
   "source": [
    "最后可以进行测试集上的测试。"
   ]
  },
  {
   "cell_type": "code",
   "execution_count": null,
   "metadata": {},
   "outputs": [],
   "source": [
    "if args[\"mode\"] != \"test\" and args[\"mode\"] != \"train_and_test\":\n",
    "    exit(0)\n",
    "dataset_test = CharDataset(data_npz[\"x_test\"], data_npz[\"y_test\"])\n",
    "dataloader_test = DataLoader(dataset_test, args[\"batch_size\"], shuffle=False)\n",
    "\n",
    "loss = 0.0\n",
    "acc = 0.0\n",
    "loss_func = CrossEntropyLoss()\n",
    "for batch in dataloader_test:\n",
    "    result = classifier.predict(batch[\"x\"])\n",
    "    loss += loss_func(result[\"predicts\"], batch[\"y\"])\n",
    "    acc += accuracy(result[\"predicts\"], batch[\"y\"])\n",
    "loss /= len(dataloader_test)\n",
    "acc /= len(dataloader_test)\n",
    "logging.info(\"Test mean loss: {:.6f}, mean accuracy: {:.6f}\".format(loss, acc))"
   ]
  }
 ],
 "metadata": {
  "interpreter": {
   "hash": "73f83993ecc2dce571ce89cddd8a44e114591bb14d9f1f8465ac4f80026585cd"
  },
  "kernelspec": {
   "display_name": "Python 3.9.18 ('AI_A')",
   "language": "python",
   "name": "python3"
  },
  "language_info": {
   "codemirror_mode": {
    "name": "ipython",
    "version": 3
   },
   "file_extension": ".py",
   "mimetype": "text/x-python",
   "name": "python",
   "nbconvert_exporter": "python",
   "pygments_lexer": "ipython3",
   "version": "3.9.18"
  },
  "orig_nbformat": 4
 },
 "nbformat": 4,
 "nbformat_minor": 2
}
